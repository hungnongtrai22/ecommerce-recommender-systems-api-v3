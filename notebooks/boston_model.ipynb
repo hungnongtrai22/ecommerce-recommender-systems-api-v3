{
 "cells": [
  {
   "cell_type": "code",
   "execution_count": 1,
   "metadata": {},
   "outputs": [],
   "source": [
    "import numpy as np\n",
    "import pandas as pd  \n",
    "\n",
    "from sklearn.metrics import mean_squared_error, r2_score\n",
    "from sklearn.linear_model import LinearRegression\n",
    "from sklearn.model_selection import train_test_split \n",
    "\n",
    "import joblib, pickle\n",
    "#from model import train_builder, data_loader"
   ]
  },
  {
   "cell_type": "code",
   "execution_count": 2,
   "metadata": {},
   "outputs": [],
   "source": [
    "def run_model_training(X_train, X_test, y_train, y_test):\n",
    "    # Train/fit model on the training set\n",
    "    reg = LinearRegression(fit_intercept=True) # True means y-intercept will be                                                                                                                                           by the line of best fit\n",
    "\n",
    "    reg.fit(X_train, y_train)\n",
    "    y_pred = reg.predict(X_test)\n",
    "\n",
    "    return reg\n",
    "\n",
    "def prepare_data(path_to_data, encoding=\"latin-1\"):\n",
    "    \"\"\"\n",
    "        \n",
    "    \"\"\"\n",
    "    # Read data from path\n",
    "    data = pd.read_csv(path_to_data, encoding=encoding)\n",
    "    X = data['RM']\n",
    "    y = data['target']\n",
    "    return {'RM':X, \n",
    "            'target':y}\n",
    "    \n",
    "\n",
    "    \n",
    "def create_train_test_data(X, y, test_size, random_state):\n",
    "    \n",
    "    X_train, X_test, y_train, y_test = train_test_split(X, y, \n",
    "                                                        test_size=test_size, \n",
    "                                                        random_state=random_state)\n",
    "\n",
    "    return {'X_train': X_train, 'X_test': X_test,\n",
    "            'y_train': y_train, 'y_test': y_test}"
   ]
  },
  {
   "cell_type": "code",
   "execution_count": null,
   "metadata": {},
   "outputs": [],
   "source": [
    "from "
   ]
  },
  {
   "cell_type": "code",
   "execution_count": 15,
   "metadata": {},
   "outputs": [],
   "source": [
    "# 0.Path to data\n",
    "path_to_data = './../data/boston_dataset.csv'\n",
    "\n",
    "# 1.Prepare the data\n",
    "prepared_data = prepare_data(path_to_data, encoding=\"latin-1\")\n",
    "# 2.Create train - test split\n",
    "train_test_data= create_train_test_data(prepared_data['RM'], \n",
    "                                            prepared_data['target'], \n",
    "                                            0.3, 2021)"
   ]
  },
  {
   "cell_type": "code",
   "execution_count": 24,
   "metadata": {},
   "outputs": [],
   "source": [
    "X_train=pd.DataFrame(train_test_data['X_train'])\n"
   ]
  },
  {
   "cell_type": "code",
   "execution_count": 20,
   "metadata": {},
   "outputs": [
    {
     "data": {
      "text/html": [
       "<div>\n",
       "<style scoped>\n",
       "    .dataframe tbody tr th:only-of-type {\n",
       "        vertical-align: middle;\n",
       "    }\n",
       "\n",
       "    .dataframe tbody tr th {\n",
       "        vertical-align: top;\n",
       "    }\n",
       "\n",
       "    .dataframe thead th {\n",
       "        text-align: right;\n",
       "    }\n",
       "</style>\n",
       "<table border=\"1\" class=\"dataframe\">\n",
       "  <thead>\n",
       "    <tr style=\"text-align: right;\">\n",
       "      <th></th>\n",
       "      <th>RM</th>\n",
       "    </tr>\n",
       "  </thead>\n",
       "  <tbody>\n",
       "    <tr>\n",
       "      <th>48</th>\n",
       "      <td>5.399</td>\n",
       "    </tr>\n",
       "    <tr>\n",
       "      <th>103</th>\n",
       "      <td>6.137</td>\n",
       "    </tr>\n",
       "    <tr>\n",
       "      <th>113</th>\n",
       "      <td>6.092</td>\n",
       "    </tr>\n",
       "    <tr>\n",
       "      <th>324</th>\n",
       "      <td>6.415</td>\n",
       "    </tr>\n",
       "    <tr>\n",
       "      <th>272</th>\n",
       "      <td>6.538</td>\n",
       "    </tr>\n",
       "    <tr>\n",
       "      <th>...</th>\n",
       "      <td>...</td>\n",
       "    </tr>\n",
       "    <tr>\n",
       "      <th>109</th>\n",
       "      <td>6.229</td>\n",
       "    </tr>\n",
       "    <tr>\n",
       "      <th>128</th>\n",
       "      <td>6.431</td>\n",
       "    </tr>\n",
       "    <tr>\n",
       "      <th>57</th>\n",
       "      <td>6.816</td>\n",
       "    </tr>\n",
       "    <tr>\n",
       "      <th>341</th>\n",
       "      <td>7.241</td>\n",
       "    </tr>\n",
       "    <tr>\n",
       "      <th>116</th>\n",
       "      <td>6.176</td>\n",
       "    </tr>\n",
       "  </tbody>\n",
       "</table>\n",
       "<p>354 rows × 1 columns</p>\n",
       "</div>"
      ],
      "text/plain": [
       "        RM\n",
       "48   5.399\n",
       "103  6.137\n",
       "113  6.092\n",
       "324  6.415\n",
       "272  6.538\n",
       "..     ...\n",
       "109  6.229\n",
       "128  6.431\n",
       "57   6.816\n",
       "341  7.241\n",
       "116  6.176\n",
       "\n",
       "[354 rows x 1 columns]"
      ]
     },
     "execution_count": 20,
     "metadata": {},
     "output_type": "execute_result"
    }
   ],
   "source": [
    "X_train"
   ]
  },
  {
   "cell_type": "code",
   "execution_count": 25,
   "metadata": {},
   "outputs": [
    {
     "data": {
      "text/plain": [
       "(354, 1)"
      ]
     },
     "execution_count": 25,
     "metadata": {},
     "output_type": "execute_result"
    }
   ],
   "source": [
    "X_train.shape"
   ]
  },
  {
   "cell_type": "markdown",
   "metadata": {},
   "source": [
    "# Forecasting"
   ]
  },
  {
   "cell_type": "code",
   "execution_count": null,
   "metadata": {},
   "outputs": [],
   "source": []
  },
  {
   "cell_type": "code",
   "execution_count": 29,
   "metadata": {},
   "outputs": [
    {
     "name": "stderr",
     "output_type": "stream",
     "text": [
      "/opt/homebrew/anaconda3/lib/python3.8/site-packages/sklearn/base.py:329: UserWarning: Trying to unpickle estimator LinearRegression from version 0.24.2 when using version 0.23.2. This might lead to breaking code or invalid results. Use at your own risk.\n",
      "  warnings.warn(\n"
     ]
    }
   ],
   "source": [
    "from joblib import load\n",
    "\n",
    "reg = load(open('./../model/regressor.pkl','rb'))"
   ]
  },
  {
   "cell_type": "code",
   "execution_count": 35,
   "metadata": {},
   "outputs": [
    {
     "data": {
      "text/plain": [
       "15.28254452111176"
      ]
     },
     "execution_count": 35,
     "metadata": {},
     "output_type": "execute_result"
    }
   ],
   "source": [
    "X_new = np.array([5.5]).reshape(-1,1)\n",
    "reg.predict(X_new)[0][0]"
   ]
  },
  {
   "cell_type": "markdown",
   "metadata": {},
   "source": [
    "# Appendix"
   ]
  },
  {
   "cell_type": "markdown",
   "metadata": {},
   "source": [
    "    # 0.Path to data\n",
    "    path_to_data = './data/boston_univariate_rm_raw.csv'\n",
    "\n",
    "    # 1.Prepare the data\n",
    "    prepared_data = train_builder.prepare_data(path_to_data, encoding=\"latin-1\")\n",
    "\n",
    "    # 2.Create train - test split\n",
    "    train_test_data, vectorizer = train_builder.create_train_test_data(prepared_data['RM'], \n",
    "                                            prepared_data['target'], \n",
    "                                            0.3, 2021)\n",
    "\n",
    "    # 3.Run training\n",
    "    model = train_builder.run_model_training(train_test_data['X_train'], train_test_data['X_test'], \n",
    "                            train_test_data['y_train'], train_test_data['y_test'])\n",
    "\n",
    "    # 4.Save the trained model and vectorizer\n",
    "    joblib.dump(model, './model/regressor.pkl')\n",
    "    print(\"Finished training model\")"
   ]
  }
 ],
 "metadata": {
  "kernelspec": {
   "display_name": "Python 3.9.13 ('env39')",
   "language": "python",
   "name": "python3"
  },
  "language_info": {
   "codemirror_mode": {
    "name": "ipython",
    "version": 3
   },
   "file_extension": ".py",
   "mimetype": "text/x-python",
   "name": "python",
   "nbconvert_exporter": "python",
   "pygments_lexer": "ipython3",
   "version": "3.9.13"
  },
  "orig_nbformat": 4,
  "vscode": {
   "interpreter": {
    "hash": "cce6b25b87d728a856ce490debcd06383e1447f7c7b75aa5c35f7565ebfd1c0e"
   }
  }
 },
 "nbformat": 4,
 "nbformat_minor": 2
}
